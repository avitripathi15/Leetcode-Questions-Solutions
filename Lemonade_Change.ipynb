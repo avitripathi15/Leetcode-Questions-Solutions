{
  "nbformat": 4,
  "nbformat_minor": 0,
  "metadata": {
    "colab": {
      "provenance": [],
      "authorship_tag": "ABX9TyPfB9mrCK49lQpB1QV6zsUf",
      "include_colab_link": true
    },
    "kernelspec": {
      "name": "python3",
      "display_name": "Python 3"
    },
    "language_info": {
      "name": "python"
    }
  },
  "cells": [
    {
      "cell_type": "markdown",
      "metadata": {
        "id": "view-in-github",
        "colab_type": "text"
      },
      "source": [
        "<a href=\"https://colab.research.google.com/github/avitripathi15/Leetcode-Questions-Solutions/blob/main/Lemonade_Change.ipynb\" target=\"_parent\"><img src=\"https://colab.research.google.com/assets/colab-badge.svg\" alt=\"Open In Colab\"/></a>"
      ]
    },
    {
      "cell_type": "markdown",
      "source": [
        "Question: You are an owner of lemonade island, each lemonade costs \\$5. Customers are standing in a queue to buy from you and order one at a time (in the order specified by given array bills[]).\n",
        "Each customer will only buy one lemonade and pay with either a \\$5, \\$10, or \\$20 bill. You must provide the correct change to each customer so that the net transaction is that the customer pays \\$5.\n",
        "\n",
        "NOTE: At first, you do not have any bill to provide changes with. You can provide changes from the bills that you get from the previous customers.\n",
        "\n",
        "Given an integer array bills of size N where bills [ i ] is the bill the ith customer pays, return true if you can provide every customer with the correct change, or false otherwise.\n",
        "\n",
        "Example 1:\n",
        "\n",
        "Input:\n",
        "N = 5\n",
        "bills [ ] = {5, 5, 5, 10, 20}\n",
        "Output: True\n",
        "Explanation:\n",
        "From the first 3 customers, we collect three \\$5 bills in order.\n",
        "From the fourth customer, we collect a \\$10 bill and give back a $5.\n",
        "From the fifth customer, we give a \\$10 bill and a \\$5 bill.\n",
        "Since all customers got correct change we return true.\n",
        "\n",
        "\n",
        "Example 2:\n",
        "\n",
        "Input:\n",
        "\n",
        "N = 5\n",
        "\n",
        "bills[ ] = {5, 5, 10, 10, 20}\n",
        "Output: False\n",
        "\n",
        "Explanation:\n",
        "From the first two customers in order, we collect two \\$5 bills.\n",
        "For the next two customers in order, we collect a \\$10 bill and give back a \\$5 bill.\n",
        "\n",
        "For the last customer, we can not give the change of \\$15 back because we only have two \\$10 bills.\n",
        "\n",
        "Since not every customer received the correct change, the answer is false.\n",
        "\n",
        "\n",
        "\n",
        "Your Task:\n",
        "\n",
        "You don't need to read input or print anything. Your task is to complete the function lemonadeChange() which takes the interger N and integer array bills [ ] as parameters and returns true if it is possible to provide change to every customer otherwise false.\n",
        "\n",
        "Expected Time Complexity: O(N)\n",
        "\n",
        "Expected Auxiliary Space: O(1)\n",
        "\n",
        "Constraints:\n",
        "\n",
        "1 ≤ N ≤ 105\n",
        "\n",
        "bills[i] contains only {5, 10, 20}"
      ],
      "metadata": {
        "id": "PZECYXzG1pSy"
      }
    },
    {
      "cell_type": "code",
      "source": [
        "'''\n",
        "we can create a hash table containing key as 5$ ,10$,20$bills\n",
        "while initializing each value to zero\n",
        "\n",
        "now we iterate through the list bills\n",
        "and increase the bills by 1\n",
        "after this we check the bill if the bill is 5$ we keep the map as it is\n",
        "if the bill is 10$ we reduce the count of 5$ by 1\n",
        "if the bill is 20 if we have 10$ bill we reduce it by 1 and 5$bill by 1\n",
        "if there are no 10$ bill we reduce the 5$ key by 3\n",
        "'''\n",
        "\n",
        "def lemonadeChange(self, N, bills):\n",
        "        # Code here\n",
        "        map = {5:0,10:0,20:0}\n",
        "\n",
        "        for i in bills:\n",
        "            if i==5:\n",
        "                map[5]+=1\n",
        "            elif i ==10:\n",
        "                map[10]+=1\n",
        "                map[5]-=1\n",
        "                if map[5]<0:\n",
        "                    return False\n",
        "            elif i==20:\n",
        "                map[20]+=1\n",
        "                if map[10]>= 1 and map[5]>=1:\n",
        "                    map[10]-=1\n",
        "                    map[5]-=1\n",
        "                else:\n",
        "                    map[5]-=3\n",
        "                if map[5]<0:\n",
        "                    return False\n",
        "        return True\n",
        "\n"
      ],
      "metadata": {
        "id": "jZzwm7993Hiv"
      },
      "execution_count": null,
      "outputs": []
    }
  ]
}